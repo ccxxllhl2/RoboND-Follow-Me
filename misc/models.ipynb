{
 "cells": [
  {
   "cell_type": "markdown",
   "metadata": {
    "deletable": true,
    "editable": true
   },
   "source": [
    "### model choice\n",
    "* model_1:  \n",
    "encoder_1 = encoder_block(inputs, filters=96, strides=2)  \n",
    "encoder_out = encoder_block(encoder_1, filters=192, strides=2)  \n",
    "cov_1 = conv2d_batchnorm(encoder_out, filters=256, kernel_size=1, strides=1)  \n",
    "  \n",
    "* model_2_64:  \n",
    "encoder_1 = encoder_block(inputs, filters=64, strides=2)  \n",
    "encoder_2 = encoder_block(encoder_1, filters=128, strides=2)  \n",
    "encoder_out = encoder_block(encoder_2, filters=256, strides=2)  \n",
    "cov_1 = conv2d_batchnorm(encoder_out, filters=256, kernel_size=1, strides=1)  \n",
    "decoder1 = decoder_block(cov_1, encoder_2, filters=256)  \n",
    "decoder2 = decoder_block(decoder1, encoder_1, filters=128)  \n",
    "decoder_out = decoder_block(decoder2, inputs, filters=64)  \n",
    "   \n",
    "* model_3_32:  \n",
    "encoder_1 = encoder_block(inputs, filters=32, strides=2)  \n",
    "encoder_2 = encoder_block(encoder_1, filters=64, strides=2)  \n",
    "encoder_3 = encoder_block(encoder_2, filters=128, strides=2)  \n",
    "encoder_4 = encoder_block(encoder_3, filters=256, strides=2)  \n",
    "encoder_out = encoder_block(encoder_4, filters=512, strides=2) \n",
    "cov_1 = conv2d_batchnorm(encoder_out, filters=512, kernel_size=1, strides=1)  \n",
    "decoder1 = decoder_block(cov_1, encoder_4, filters=512)  \n",
    "decoder2 = decoder_block(decoder1, encoder_3, filters=256)  \n",
    "decoder3 = decoder_block(decoder2, encoder_2, filters=128)  \n",
    "decoder4 = decoder_block(decoder3, encoder_1, filters=64)  \n",
    "decoder_out = decoder_block(decoder4, inputs, filters=32)  \n",
    "  \n",
    "* model_2_96:   \n",
    "filter_begin = 96  \n",
    "encoder_1 = encoder_block(inputs, filters=filter_begin, strides=2)  \n",
    "encoder_2 = encoder_block(encoder_1, filters=filter_begin*2, strides=2)  \n",
    "encoder_out = encoder_block(encoder_2, filters=filter_begin*4, strides=2)  \n",
    "cov_1 = conv2d_batchnorm(encoder_out, filters=filter_begin*4, kernel_size=1, strides=1)  \n",
    "decoder1 = decoder_block(cov_1, encoder_2, filters=filter_begin*4)  \n",
    "decoder2 = decoder_block(decoder1, encoder_1, filters=filter_begin*2)  \n",
    "decoder_out = decoder_block(decoder2, inputs, filters=filter_begin)\n",
    "  \n",
    "* model_3_96:\n",
    "filter_begin = 96\n",
    "encoder_1 = encoder_block(inputs, filters=filter_begin, strides=2)  \n",
    "encoder_2 = encoder_block(encoder_1, filters=filter_begin*2, strides=2)  \n",
    "encoder_3 = encoder_block(encoder_2, filters=filter_begin*4, strides=2)  \n",
    "encoder_4 = encoder_block(encoder_3, filters=filter_begin*8, strides=2)  \n",
    "encoder_out = encoder_block(encoder_4, filters=filter_begin*8, strides=2) \n",
    "cov_1 = conv2d_batchnorm(encoder_out, filters=filter_begin*8, kernel_size=1, strides=1)  \n",
    "decoder1 = decoder_block(cov_1, encoder_4, filters=filter_begin*8)  \n",
    "decoder2 = decoder_block(decoder1, encoder_3, filters=filter_begin*8)  \n",
    "decoder3 = decoder_block(decoder2, encoder_2, filters=filter_begin*4)  \n",
    "decoder4 = decoder_block(decoder3, encoder_1, filters=filter_begin*2)  \n",
    "decoder_out = decoder_block(decoder4, inputs, filters=filter_begin)\n",
    "  \n"
   ]
  }
 ],
 "metadata": {
  "kernelspec": {
   "display_name": "Python 3",
   "language": "python",
   "name": "python3"
  },
  "language_info": {
   "codemirror_mode": {
    "name": "ipython",
    "version": 3
   },
   "file_extension": ".py",
   "mimetype": "text/x-python",
   "name": "python",
   "nbconvert_exporter": "python",
   "pygments_lexer": "ipython3",
   "version": "3.5.3"
  }
 },
 "nbformat": 4,
 "nbformat_minor": 2
}
